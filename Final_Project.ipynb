{
 "cells": [
  {
   "cell_type": "code",
   "execution_count": 140,
   "id": "684e5230",
   "metadata": {},
   "outputs": [],
   "source": [
    "import numpy as np\n",
    "import pandas as pd"
   ]
  },
  {
   "cell_type": "code",
   "execution_count": 141,
   "id": "5ddfb0e6",
   "metadata": {},
   "outputs": [],
   "source": [
    "# Import dataset and analyze\n",
    "dataset = pd.read_csv(\"movie.csv\")"
   ]
  },
  {
   "cell_type": "markdown",
   "id": "42864b83",
   "metadata": {},
   "source": [
    "Analyze the dataset "
   ]
  },
  {
   "cell_type": "code",
   "execution_count": 142,
   "id": "8d9051cf",
   "metadata": {},
   "outputs": [
    {
     "data": {
      "text/html": [
       "<div>\n",
       "<style scoped>\n",
       "    .dataframe tbody tr th:only-of-type {\n",
       "        vertical-align: middle;\n",
       "    }\n",
       "\n",
       "    .dataframe tbody tr th {\n",
       "        vertical-align: top;\n",
       "    }\n",
       "\n",
       "    .dataframe thead th {\n",
       "        text-align: right;\n",
       "    }\n",
       "</style>\n",
       "<table border=\"1\" class=\"dataframe\">\n",
       "  <thead>\n",
       "    <tr style=\"text-align: right;\">\n",
       "      <th></th>\n",
       "      <th>text</th>\n",
       "      <th>label</th>\n",
       "    </tr>\n",
       "  </thead>\n",
       "  <tbody>\n",
       "    <tr>\n",
       "      <th>0</th>\n",
       "      <td>I grew up (b. 1965) watching and loving the Th...</td>\n",
       "      <td>0</td>\n",
       "    </tr>\n",
       "    <tr>\n",
       "      <th>1</th>\n",
       "      <td>When I put this movie in my DVD player, and sa...</td>\n",
       "      <td>0</td>\n",
       "    </tr>\n",
       "    <tr>\n",
       "      <th>2</th>\n",
       "      <td>Why do people who do not know what a particula...</td>\n",
       "      <td>0</td>\n",
       "    </tr>\n",
       "    <tr>\n",
       "      <th>3</th>\n",
       "      <td>Even though I have great interest in Biblical ...</td>\n",
       "      <td>0</td>\n",
       "    </tr>\n",
       "    <tr>\n",
       "      <th>4</th>\n",
       "      <td>Im a die hard Dads Army fan and nothing will e...</td>\n",
       "      <td>1</td>\n",
       "    </tr>\n",
       "  </tbody>\n",
       "</table>\n",
       "</div>"
      ],
      "text/plain": [
       "                                                text  label\n",
       "0  I grew up (b. 1965) watching and loving the Th...      0\n",
       "1  When I put this movie in my DVD player, and sa...      0\n",
       "2  Why do people who do not know what a particula...      0\n",
       "3  Even though I have great interest in Biblical ...      0\n",
       "4  Im a die hard Dads Army fan and nothing will e...      1"
      ]
     },
     "execution_count": 142,
     "metadata": {},
     "output_type": "execute_result"
    }
   ],
   "source": [
    "dataset.head()"
   ]
  },
  {
   "cell_type": "code",
   "execution_count": 143,
   "id": "3236d17b",
   "metadata": {},
   "outputs": [
    {
     "data": {
      "image/png": "[encoded data removed]",
      "text/plain": [
       "<Figure size 432x288 with 1 Axes>"
      ]
     },
     "metadata": {
      "needs_background": "light"
     },
     "output_type": "display_data"
    }
   ],
   "source": [
    "# Data distribution\n",
    "Data_distribution = dataset.groupby('label').count()\n",
    "Plot = Data_distribution.plot.bar(rot=0,legend=False)"
   ]
  },
  {
   "cell_type": "code",
   "execution_count": null,
   "id": "aaf585cb",
   "metadata": {},
   "outputs": [],
   "source": [
    "# Create the datset\n",
    "X=dataset['text']\n",
    "y=dataset['label']\n",
    "X_negative=[X[i] for i in range(len(X)) if y[i]==0]\n",
    "X_positive=[X[i] for i in range(len(X)) if y[i]==1]"
   ]
  },
  {
   "cell_type": "code",
   "execution_count": null,
   "id": "8f40600a",
   "metadata": {},
   "outputs": [],
   "source": [
    "# Split the data into training and testing \n",
    "X_train_0=X_negative[0:15000]\n",
    "X_train_1=X_positive[0:15000]\n",
    "X_test_0=X_negative[15000:]\n",
    "X_test_1=X_positive[15000:]"
   ]
  },
  {
   "cell_type": "code",
   "execution_count": null,
   "id": "933bdd85",
   "metadata": {},
   "outputs": [],
   "source": [
    "# Create the Synthetic data\n",
    "# import openai libraries\n",
    "# Do not run the  below 6 cells. Data created beforehand\n",
    "import os\n",
    "import openai\n",
    "openai.api_key = \"My API key\""
   ]
  },
  {
   "cell_type": "code",
   "execution_count": null,
   "id": "d5522aa7",
   "metadata": {},
   "outputs": [],
   "source": [
    "# create a csv file with data to fine-tune GPT-3\n",
    "# 100 positive and 100 negative samples were used for fine-tuning\n",
    "# Limited by the credits\n",
    "import csv\n",
    "val=[]\n",
    "header=['prompt','completion']\n",
    "with open('gpt3_train.csv', 'w', encoding='UTF8') as f:\n",
    "    writer = csv.writer(f)\n",
    "    writer.writerow(header)\n",
    "    for i in range(0,200):\n",
    "        if(i<100):\n",
    "            temp=['positive sentiment\\n\\n###\\n\\n',\" \"+X_train_1[i]]\n",
    "        else:\n",
    "            temp=['negative sentiment\\n\\n###\\n\\n',\" \"+X_train_0[i]]\n",
    "        writer.writerow(temp)"
   ]
  },
  {
   "cell_type": "code",
   "execution_count": null,
   "id": "06282e95",
   "metadata": {},
   "outputs": [],
   "source": [
    "# will create a jsonl file from the csv file to be used for fine-tunning\n",
    "!yes | openai tools fine_tunes.prepare_data -f 'gpt3_train.csv'\n",
    "# will prepare the file on the openai-server\n",
    "with open(\"gpt3_train_prepared.jsonl\") as f:\n",
    "      info = openai.File.create(file=f, purpose='fine-tune')"
   ]
  },
  {
   "cell_type": "code",
   "execution_count": null,
   "id": "f6354dc9",
   "metadata": {},
   "outputs": [],
   "source": [
    "# will fin-tune the curie model with my training file for 1 epoch\n",
    "info = openai.FineTune.create(training_file=\"file-3WBfh63bfdPaJb94yP3UrSgB\", model='curie',n_epochs=1)"
   ]
  },
  {
   "cell_type": "code",
   "execution_count": null,
   "id": "c6ec2237",
   "metadata": {},
   "outputs": [],
   "source": [
    "# function to prompt GPT-3 and create new data\n",
    "def create_synthetic_data(file_name,sentiment,no_queries):\n",
    "    with open(file_name, 'a') as f:\n",
    "        for i in range(0,no_queries):\n",
    "            info = openai.Completion.create(engine=\"curie:ft-personal-2022-11-28-23-27-31\",\n",
    "                                            prompt=sentiment+\" sentiment\\n\\n###\\n\\n\",\n",
    "                                            temperature=0.7,\n",
    "                                            max_tokens=250,\n",
    "                                            top_p=1.0,\n",
    "                                            frequency_penalty=0.0,\n",
    "                                            presence_penalty=0.0)\n",
    "            f.write(response['choices'][0]['text'])\n",
    "            f.write('\\n')\n",
    "    "
   ]
  },
  {
   "cell_type": "code",
   "execution_count": null,
   "id": "170effb1",
   "metadata": {},
   "outputs": [],
   "source": [
    "# create the positive and negative synthetic data\n",
    "create_synthetic_data(\"gpt_negative_fine_tune.txt\",\"negative\",3000)\n",
    "create_synthetic_data(\"gpt_positive_fine_tune.txt\",\"positive\",3000)"
   ]
  },
  {
   "cell_type": "code",
   "execution_count": null,
   "id": "c775de3a",
   "metadata": {},
   "outputs": [],
   "source": [
    "# Creating synthetic data using prompts\n",
    "# Not used in final results !\n",
    "with open('gpt_negative_prompt.txt', 'a') as f:\n",
    "    for i in range(4000,len(X_train_1)-3,3):\n",
    "        print(i)\n",
    "        gpt_prompt=\"sentiment: negative \\ntext:\"+X_train_0[i]+\"\\nsentiment: negative\\ntext:\"+X_train_0[i+1]+\"\\nsentiment: negative \\ntext:\"+X_train_0[i+2]+\"\\nsentiment: negative\\ntext:\"\n",
    "        response = openai.Completion.create(\n",
    "  engine=\"text-davinci-002\",\n",
    "  prompt=gpt_prompt,\n",
    "  temperature=0.7,\n",
    "  max_tokens=1000,\n",
    "  top_p=1.0,\n",
    "  frequency_penalty=0.0,\n",
    "  presence_penalty=0.0\n",
    ")\n",
    "        f.write(response['choices'][0]['text'])\n",
    "        f.write('\\n')\n",
    "        \n",
    "with open('gpt_postive_prompt.txt', 'a') as f:\n",
    "    for i in range(4000,len(X_train_1)-3,3):\n",
    "        print(i)\n",
    "        gpt_prompt=\"sentiment: positive \\ntext:\"+X_train_0[i]+\"\\nsentiment: positive\\ntext:\"+X_train_0[i+1]+\"\\nsentiment: positive \\ntext:\"+X_train_0[i+2]+\"\\nsentiment: positive\\ntext:\"\n",
    "        response = openai.Completion.create(\n",
    "  engine=\"text-davinci-002\",\n",
    "  prompt=gpt_prompt,\n",
    "  temperature=0.7,\n",
    "  max_tokens=1000,\n",
    "  top_p=1.0,\n",
    "  frequency_penalty=0.0,\n",
    "  presence_penalty=0.0\n",
    ")\n",
    "        f.write(response['choices'][0]['text'])\n",
    "        f.write('\\n')\n"
   ]
  },
  {
   "cell_type": "code",
   "execution_count": 196,
   "id": "e9e6eec7",
   "metadata": {},
   "outputs": [
    {
     "data": {
      "text/plain": [
       "[\"I can't believe people are looking for a plot in this film. This is Laural and Hardy. Lighten up already. These two were a riot. Their comic genius is as funny today as it was 70 years ago. Not a filthy word out of either mouth and they were able to keep audiences in stitches. Their comedy wasn't sophisticated by any stretch. If a whoopee cushion can't make you grin, there's no reason to watch any of the stuff these guys did. It was a simpler time, and people laughed at stuff that was funny without a plot. I guess it takes a simple mind to enjoy this stuff, so I qualify. Two man comedy teams don't compute, We're just too sophisticated... Aren't we fortunate?\",\n",
       " 'I have always been a huge fan of \"Homicide: Life On The Street\" so when I heard there was a reunion movie coming up, I couldn\\'t wait.<br /><br />Let me just say, I was not disappointed at all. It was one of the most powerful 2 hours of television I\\'ve ever seen. It was great to see everyone back again, but the biggest pleasure of all was to have Andre Braugher back, because the relationship between Pembleton and Bayliss was always the strongest part of an all-together great show.']"
      ]
     },
     "execution_count": 196,
     "metadata": {},
     "output_type": "execute_result"
    }
   ],
   "source": [
    "# postive examples from dataset\n",
    "X_positive[4:6]"
   ]
  },
  {
   "cell_type": "code",
   "execution_count": 198,
   "id": "aca94fbd",
   "metadata": {},
   "outputs": [
    {
     "data": {
      "text/plain": [
       "['Why do people who do not know what a particular time in the past was like feel the need to try to define that time for others? Replace Woodstock with the Civil War and the Apollo moon-landing with the Titanic sinking and you\\'ve got as realistic a flick as this formulaic soap opera populated entirely by low-life trash. Is this what kids who were too young to be allowed to go to Woodstock and who failed grade school composition do? \"I\\'ll show those old meanies, I\\'ll put out my own movie and prove that you don\\'t have to know nuttin about your topic to still make money!\" Yeah, we already know that. The one thing watching this film did for me was to give me a little insight into underclass thinking. The next time I see a slut in a bar who looks like Diane Lane, I\\'m running the other way. It\\'s child abuse to let parents that worthless raise kids. It\\'s audience abuse to simply stick Woodstock and the moonlanding into a flick as if that ipso facto means the film portrays 1969.',\n",
       " 'Even though I have great interest in Biblical movies, I was bored to death every minute of the movie. Everything is bad. The movie is too long, the acting is most of the time a Joke and the script is horrible. I did not get the point in mixing the story about Abraham and Noah together. So if you value your time and sanity stay away from this horror.']"
      ]
     },
     "execution_count": 198,
     "metadata": {},
     "output_type": "execute_result"
    }
   ],
   "source": [
    "# negative examples from dataset\n",
    "X_negative[2:4]"
   ]
  },
  {
   "cell_type": "code",
   "execution_count": 200,
   "id": "3bce8612",
   "metadata": {},
   "outputs": [],
   "source": [
    "# retrive all synthetic data with more than 50 characters\n",
    "# sometimes GPT-3 will return very short responses which we discard\n",
    "x_neg_fine_tune= [ val for val in open(\"gpt_negative_fine_tune.txt\").readlines() if len(val)>50]\n",
    "x_pos_fine_tune= [ val for val in open(\"gpt_positive_fine_tune.txt\").readlines() if len(val)>50]"
   ]
  },
  {
   "cell_type": "code",
   "execution_count": 202,
   "id": "2b099627",
   "metadata": {},
   "outputs": [
    {
     "data": {
      "text/plain": [
       "[\" I saw this movie yesterday (it's a new release) and I have to say, I loved it. I absolutely loved it. It was a very enjoyable film experience. I don't even know if I can think of anything negative to say about it. <br /><br />Now I'm not a big fan of the romantic comedies, and in fact I could care less about Hollywood movies in general, but I watched this movie as I was leaving work, so I wanted to see if I was going to be entertained. And, man, was I! I laughed, I cried and I got chills. I don't know if this is a good movie or not, I haven't seen it since the theatre, but I know that it was a fun movie. And I'm pretty sure I know why. <br /><br />Pete. <br /><br />Pete is the main character, and I think he's a great character. Very multi-dimensional. He's a very good actor, I've never seen him in anything before, so I have no idea how he's going to do in the future. I don't think he's going to go too far, because he's definitely\\n\",\n",
       " \" A high-octane, no-holds-barred action-adventure with some of the best actors you'll ever see. Don't get me wrong, this is an incredibly violent movie, but it's not gratuitously so. As disgusting as the idea of an inter-dimensional creature that wants to consume us all may be, the story certainly isn't about that and Sylvester Stallone does an excellent job of keeping it that way. The movie is about the team trying to figure out a way to stop it before it gets here. This is also the story of the team coming together and how they do it. The film is also action-packed and full of thrills, although it is not overloaded with CGI and explosions as some action movies are. It's a little more sophisticated than most action movies and I think it's a much better film than the Rocky movies. It's no surprise that the movie was shot in the Philippines and the film has a very exotic and exotic film feel to it. The movie has a good cast and the acting is excellent. The script is very good, although there are some moments that could be better. The dialogue is also very good. (For instance, when the team is\\n\"]"
      ]
     },
     "execution_count": 202,
     "metadata": {},
     "output_type": "execute_result"
    }
   ],
   "source": [
    "# postive examples from synthetic-data\n",
    "x_pos_fine_tune[0:2]"
   ]
  },
  {
   "cell_type": "code",
   "execution_count": 222,
   "id": "c56aabdf",
   "metadata": {},
   "outputs": [
    {
     "data": {
      "text/plain": [
       "[\" This movie has not aged well at all. The script is rather silly, the pacing is flat and the acting is atrocious. In fact, I'm surprised that this movie has any cult following at all. Essentially, the plot is that some people get transported to hell when they die and they have to fight their way back.<br /><br />The characters are not very well developed and most of them are simply there to provide a plot device. The movie is actually not all that bad in that regard, as it is not any worse than most horror movies of the time. However, the movie is not for everyone. The acting is atrocious and the dialogue is not very good at all. The pacing is bad and the camera work is also not very good. The movie also has a lot of annoying CG effects which detract from the film.<br /><br />I would recommend this movie for hardcore horror fans only. Not for anyone else.\\n\",\n",
       " \" I have to say that I'm really surprised that so many people have rated this movie so highly. First of all, the movie was bad enough when I watched it on TV, but now that it's on DVD, it's even worse.<br /><br />The true story of the Amish, who like the Moravians, are an immigrant group who banded together as a religious community, is fascinating. I like the idea of a group of people who are so different from the rest of the world. What they believe in, how they live is so different, it makes you think. I love the Amish, but I don't want to see a group of people who are so different from the rest of us becoming American made-for-TV movie heroes. The Amish are simple people who have a very hard life. They're farmers, which is a very tough job. They have to work in the fields, tend to their livestock and have to deal with the weather, to name a few of the things they have to do.<br /><br />The basic plot of this movie is that the Amish have a school, but the school is being picked on by the local townspeople. They are\\n\"]"
      ]
     },
     "execution_count": 222,
     "metadata": {},
     "output_type": "execute_result"
    }
   ],
   "source": [
    "# negative examples from synthetic-data\n",
    "x_neg_fine_tune[1:3]"
   ]
  },
  {
   "cell_type": "code",
   "execution_count": 308,
   "id": "646cb0c9",
   "metadata": {},
   "outputs": [],
   "source": [
    "# create the data to train the model (very low data,low data,high data, very high data)\n",
    "X_train=X_train_1[0:5000]+x_pos_fine_tune[0:2000]+x_neg_fine_tune[0:2000]+X_train_0[0:5000]\n",
    "X_test=X_test_1[0:2000]+X_train_0[0:2000]\n",
    "y_train=[1*(i<7000) for i in range(14000)]\n",
    "y_test=[1*(i<2000) for i in range(4000)]"
   ]
  },
  {
   "cell_type": "code",
   "execution_count": 309,
   "id": "bd727259",
   "metadata": {},
   "outputs": [],
   "source": [
    "# Import Libraries\n",
    "import nltk\n",
    "import string\n",
    "from nltk.tokenize import word_tokenize\n",
    "from nltk.stem import PorterStemmer\n",
    "from sklearn.feature_extraction.text import TfidfVectorizer\n",
    "from sklearn.naive_bayes import MultinomialNB\n",
    "from sklearn.linear_model import LogisticRegression\n",
    "import re\n",
    "lemmatizer=WordNetLemmatizer()\n",
    "s = PorterStemmer()"
   ]
  },
  {
   "cell_type": "code",
   "execution_count": 310,
   "id": "fa7f2fb9",
   "metadata": {},
   "outputs": [],
   "source": [
    "# Cleaning the data\n",
    "def data_cleaning(text_corpus): \n",
    "    cleaned_corpus=[]\n",
    "    for text in text_corpus: \n",
    "        text = text.translate(string.punctuation)\n",
    "        text = text.replace('\\n', ' ')\n",
    "        text = text.replace('<br />', '')\n",
    "        re.sub(\"\\s\\s+\" , \" \", text)\n",
    "        tokens=word_tokenize(text.lower())\n",
    "        stem_tokens=[s.stem(word) for word in tokens]\n",
    "        cleaned_corpus.append(' '.join(stem_tokens))\n",
    "    return cleaned_corpus"
   ]
  },
  {
   "cell_type": "code",
   "execution_count": 311,
   "id": "be8d1aa0",
   "metadata": {},
   "outputs": [],
   "source": [
    "# train\n",
    "cleaned_data_train=data_cleaning(X_train)\n",
    "tfidf=TfidfVectorizer(max_features=100000, ngram_range=(1, 3))\n",
    "tfidf.fit(cleaned_data_train)\n",
    "X_train_final=tfidf.transform(cleaned_data_train) \n",
    "\n",
    "# test\n",
    "cleaned_data_test=data_cleaning(X_test)\n",
    "X_test_final=tfidf.transform(cleaned_data_test)"
   ]
  },
  {
   "cell_type": "code",
   "execution_count": 312,
   "id": "615ceb56",
   "metadata": {},
   "outputs": [
    {
     "name": "stdout",
     "output_type": "stream",
     "text": [
      "Train Score 0.9205714285714286\n",
      "Test Score 0.9065\n"
     ]
    }
   ],
   "source": [
    "# Create a Naive Bayes model and fit training data\n",
    "nb=MultinomialNB()\n",
    "nb.fit(X_train_final, y_train)\n",
    "\n",
    "# Evaluate model\n",
    "print(\"Train Score\",nb.score(X_train_final, y_train))\n",
    "print(\"Test Score\",nb.score(X_test_final, y_test))\n",
    "y_pred = nb.predict(X_test_final)"
   ]
  },
  {
   "cell_type": "code",
   "execution_count": 313,
   "id": "b9cd9e79",
   "metadata": {},
   "outputs": [
    {
     "name": "stdout",
     "output_type": "stream",
     "text": [
      "Train Score 0.931\n",
      "Test Score 0.9145\n"
     ]
    }
   ],
   "source": [
    "# Create a Linear Regression model and fit training data\n",
    "clf = LogisticRegression(C=1.0)\n",
    "clf.fit(X_train_final, y_train)\n",
    "pred = clf.predict(X_test_final)\n",
    "\n",
    "# Evaluate model\n",
    "print(\"Train Score\",clf.score(X_train_final, y_train))\n",
    "print(\"Test Score\",clf.score(X_test_final, y_test))"
   ]
  },
  {
   "cell_type": "code",
   "execution_count": 314,
   "id": "c8997311",
   "metadata": {},
   "outputs": [],
   "source": [
    "from sklearn.metrics import classification_report,ConfusionMatrixDisplay\n",
    "import matplotlib.pyplot as plt\n",
    "def show_results(y,y_test,title):\n",
    "    y_pred = [1*(x>=0.5) for x in y]\n",
    "    fig, ax = plt.subplots(1,1,figsize=(4,4))\n",
    "    ax.set_title(title)\n",
    "    ConfusionMatrixDisplay.from_predictions(y_test,y_pred,cmap=\"Blues\" ,ax = ax)\n",
    "    plt.show()\n",
    "    print(classification_report(y_test, y_pred))"
   ]
  },
  {
   "cell_type": "code",
   "execution_count": 315,
   "id": "76ac7393",
   "metadata": {},
   "outputs": [
    {
     "data": {
      "image/png": "[encoded data removed]",
      "text/plain": [
       "<Figure size 288x288 with 2 Axes>"
      ]
     },
     "metadata": {
      "needs_background": "light"
     },
     "output_type": "display_data"
    },
    {
     "name": "stdout",
     "output_type": "stream",
     "text": [
      "              precision    recall  f1-score   support\n",
      "\n",
      "           0       0.88      0.94      0.91      2000\n",
      "           1       0.94      0.87      0.90      2000\n",
      "\n",
      "    accuracy                           0.91      4000\n",
      "   macro avg       0.91      0.91      0.91      4000\n",
      "weighted avg       0.91      0.91      0.91      4000\n",
      "\n"
     ]
    },
    {
     "data": {
      "image/png": "[encoded data removed]",
      "text/plain": [
       "<Figure size 288x288 with 2 Axes>"
      ]
     },
     "metadata": {
      "needs_background": "light"
     },
     "output_type": "display_data"
    },
    {
     "name": "stdout",
     "output_type": "stream",
     "text": [
      "              precision    recall  f1-score   support\n",
      "\n",
      "           0       0.89      0.94      0.92      2000\n",
      "           1       0.94      0.89      0.91      2000\n",
      "\n",
      "    accuracy                           0.91      4000\n",
      "   macro avg       0.92      0.91      0.91      4000\n",
      "weighted avg       0.92      0.91      0.91      4000\n",
      "\n"
     ]
    }
   ],
   "source": [
    "show_results(y_pred,y_test,\"Naive Bayes\")\n",
    "show_results(pred,y_test,\"Logistic Regression\")"
   ]
  },
  {
   "cell_type": "code",
   "execution_count": 320,
   "id": "c2f488b6",
   "metadata": {},
   "outputs": [],
   "source": [
    "def run_test_original(size,synthetic):\n",
    "    if synthetic==False:\n",
    "        X_train=X_train_1[0:size]+X_train_0[0:size]\n",
    "        y_train=[1*(i<size) for i in range(2*size)]\n",
    "    else:\n",
    "        X_train=X_train_1[0:size]+x_pos_fine_tune[0:2000]+x_neg_fine_tune[0:2000]+X_train_0[0:size]\n",
    "        y_train=[1*(i<(size+2000)) for i in range(2*(size+2000))]\n",
    "\n",
    "    X_test=X_test_1[0:2000]+X_train_0[0:2000]\n",
    "    y_test=[1*(i<2000) for i in range(4000)]\n",
    "        \n",
    "    cleaned_data_train=data_cleaning(X_train)\n",
    "    tfidf=TfidfVectorizer(max_features=100000, ngram_range=(1, 3))\n",
    "    tfidf.fit(cleaned_data_train)\n",
    "    X_train_final=tfidf.transform(cleaned_data_train) \n",
    "    cleaned_data_test=data_cleaning(X_test)\n",
    "    X_test_final=tfidf.transform(cleaned_data_test)\n",
    "    clf = LogisticRegression(C=1.0)\n",
    "    clf.fit(X_train_final, y_train)\n",
    "    pred = clf.predict(X_test_final)\n",
    "    return(clf.score(X_test_final, y_test))\n",
    "    "
   ]
  },
  {
   "cell_type": "code",
   "execution_count": 328,
   "id": "cde47cd1",
   "metadata": {},
   "outputs": [],
   "source": [
    "# Lets create a plot of increase in accuracy vs data size\n",
    "data_size=[100,250,500,750,1000,1250]\n",
    "acc_diff=[]\n",
    "for d in data_size:\n",
    "    acc_1=run_test_original(d,False)\n",
    "    acc_2=run_test_original(d,True)\n",
    "    acc_diff.append(acc_2-acc_1)\n",
    "    "
   ]
  },
  {
   "cell_type": "code",
   "execution_count": 329,
   "id": "dca74eb6",
   "metadata": {},
   "outputs": [],
   "source": [
    "final_acc=[x*(x>0)*100 for x in acc_diff ]"
   ]
  },
  {
   "cell_type": "code",
   "execution_count": 332,
   "id": "06c6965f",
   "metadata": {},
   "outputs": [
    {
     "data": {
      "image/png": "[encoded data removed]",
      "text/plain": [
       "<Figure size 432x288 with 1 Axes>"
      ]
     },
     "metadata": {
      "needs_background": "light"
     },
     "output_type": "display_data"
    }
   ],
   "source": [
    "plt.plot(data_size,final_acc)\n",
    "plt.ylabel('Advantage with GPT-3')\n",
    "plt.xlabel('Training data')\n",
    "plt.show()"
   ]
  },
  {
   "cell_type": "code",
   "execution_count": null,
   "id": "cbcdbf9d",
   "metadata": {},
   "outputs": [],
   "source": []
  }
 ],
 "metadata": {
  "kernelspec": {
   "display_name": "tf",
   "language": "python",
   "name": "tf"
  },
  "language_info": {
   "codemirror_mode": {
    "name": "ipython",
    "version": 3
   },
   "file_extension": ".py",
   "mimetype": "text/x-python",
   "name": "python",
   "nbconvert_exporter": "python",
   "pygments_lexer": "ipython3",
   "version": "3.7.11"
  }
 },
 "nbformat": 4,
 "nbformat_minor": 5
}
